{
 "cells": [
  {
   "cell_type": "code",
   "execution_count": 57,
   "metadata": {},
   "outputs": [
    {
     "name": "stdout",
     "output_type": "stream",
     "text": [
      "No. of Words: 81\n",
      "No. of tags: 11\n",
      "No. of lines: 34\n",
      "No. of spaces: 52\n"
     ]
    }
   ],
   "source": [
    "with open(\"example_html_file.html\" , \"r\") as f_obj:\n",
    "    content = f_obj.read()\n",
    "    no_words = len(content.split())\n",
    "    no_tag = len(content.split(\"</\"))\n",
    "    no_lines = len(content.split(\"\\n\")) - len(content.split(\"\\n\\n\"))\n",
    "    no_spaces = len(content.split(\" \")) - len(content.split(\"\\n\\n\")) - len(content.split(\"  \"))\n",
    "    print(f\"No. of Words: {no_words}\")\n",
    "    print(f\"No. of tags: {no_tag}\")\n",
    "    print(f\"No. of lines: {no_lines}\")\n",
    "    print(f\"No. of spaces: {no_spaces}\")\n"
   ]
  },
  {
   "cell_type": "code",
   "execution_count": null,
   "metadata": {},
   "outputs": [],
   "source": []
  },
  {
   "cell_type": "code",
   "execution_count": null,
   "metadata": {},
   "outputs": [],
   "source": []
  }
 ],
 "metadata": {
  "kernelspec": {
   "display_name": "Python 3",
   "language": "python",
   "name": "python3"
  },
  "language_info": {
   "codemirror_mode": {
    "name": "ipython",
    "version": 3
   },
   "file_extension": ".py",
   "mimetype": "text/x-python",
   "name": "python",
   "nbconvert_exporter": "python",
   "pygments_lexer": "ipython3",
   "version": "3.7.3"
  }
 },
 "nbformat": 4,
 "nbformat_minor": 2
}
